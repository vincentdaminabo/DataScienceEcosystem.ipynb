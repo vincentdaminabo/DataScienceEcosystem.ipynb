{
 "cells": [
  {
   "cell_type": "markdown",
   "id": "121cfe0c",
   "metadata": {},
   "source": [
    "##### Exercise 2: Create markdown cell with title of the notebook"
   ]
  },
  {
   "cell_type": "markdown",
   "id": "8ac1880b",
   "metadata": {},
   "source": [
    "# Data Science Tools and Ecosystem "
   ]
  },
  {
   "cell_type": "markdown",
   "id": "60b5b285",
   "metadata": {},
   "source": [
    "##### Exercise 3 - Create a markdown cell for an introduction"
   ]
  },
  {
   "cell_type": "markdown",
   "id": "4d521701",
   "metadata": {},
   "source": [
    "In this notebook, Data Science Tools and Ecosystem are summarized\n",
    "\n",
    "**Objectives:**\n",
    "\n",
    "* List Some of the popular languages that Data Scientists use\n",
    "* list data science libraries\n",
    "* Create a markdown cell with a table of Data Science tools\n",
    "* evaluating arithmetic expressions in Python"
   ]
  },
  {
   "cell_type": "markdown",
   "id": "c279692c",
   "metadata": {},
   "source": [
    "##### Exercise 4 - Create a markdown cell to list data science languages"
   ]
  },
  {
   "cell_type": "markdown",
   "id": "c431b8ec",
   "metadata": {},
   "source": [
    "Some of the popular languages that Data Scientists use are:\n",
    "\n",
    "1. R \n",
    "\n",
    "2. Python\n",
    "\n",
    "3. SQL\n",
    "\n",
    "4. Java\n",
    "\n",
    "5. Scala, etc"
   ]
  },
  {
   "cell_type": "markdown",
   "id": "a5285ce4",
   "metadata": {},
   "source": [
    "##### Exercise 5 - Create a markdown cell to list data science libraries"
   ]
  },
  {
   "cell_type": "markdown",
   "id": "395de2a6",
   "metadata": {},
   "source": [
    "Some of the commonly used libraries used by Data Scientists include:\n",
    "    \n",
    "* ggplot2\n",
    "* Numpy\n",
    "* Pandas\n",
    "* Scikit Learn\n",
    "* SciPy"
   ]
  },
  {
   "cell_type": "markdown",
   "id": "7aa654bd",
   "metadata": {},
   "source": [
    "##### Exercise 6 - Create a markdown cell with a table of Data Science tools"
   ]
  },
  {
   "cell_type": "markdown",
   "id": "648f9b16",
   "metadata": {},
   "source": [
    "| Data Science Tools | \n",
    "| ------------------ | \n",
    "| Jupyter Notebook   | \n",
    "| Rstudio   | \n",
    "| VS Code   |"
   ]
  },
  {
   "cell_type": "markdown",
   "id": "64d74fa9",
   "metadata": {},
   "source": [
    "##### Exercise 7 - Create a markdown cell introducing arithmetic expression examples"
   ]
  },
  {
   "cell_type": "markdown",
   "id": "0375f001",
   "metadata": {},
   "source": [
    "### Below are a few examples of evaluating arithmetic expressions in Python:"
   ]
  },
  {
   "cell_type": "markdown",
   "id": "d013cc89",
   "metadata": {},
   "source": [
    "##### Exercise 8 - Create a code cell to multiply and add numbers"
   ]
  },
  {
   "cell_type": "code",
   "execution_count": 3,
   "id": "e9f55002",
   "metadata": {},
   "outputs": [
    {
     "data": {
      "text/plain": [
       "17"
      ]
     },
     "execution_count": 3,
     "metadata": {},
     "output_type": "execute_result"
    }
   ],
   "source": [
    "(3*4)+5\n",
    "\n",
    "# This a simple arithmetic expression to mutiply then add integers"
   ]
  },
  {
   "cell_type": "markdown",
   "id": "6b48a552",
   "metadata": {},
   "source": [
    "##### Exercise 9 - Create a code cell to convert minutes to hours"
   ]
  },
  {
   "cell_type": "code",
   "execution_count": 4,
   "id": "4399bd24",
   "metadata": {},
   "outputs": [
    {
     "data": {
      "text/plain": [
       "3.3333333333333335"
      ]
     },
     "execution_count": 4,
     "metadata": {},
     "output_type": "execute_result"
    }
   ],
   "source": [
    "# This will convert 200 minutes to hours by diving by 60\n",
    "\n",
    "200/60"
   ]
  },
  {
   "cell_type": "markdown",
   "id": "265d5550",
   "metadata": {},
   "source": [
    "##### Exercise 11 - Create a markdown cell to indicate the Author's name"
   ]
  },
  {
   "cell_type": "markdown",
   "id": "b08e9648",
   "metadata": {},
   "source": [
    "## Author\n",
    "\n",
    "Vincent Daminabo"
   ]
  }
 ],
 "metadata": {
  "kernelspec": {
   "display_name": "Python 3 (ipykernel)",
   "language": "python",
   "name": "python3"
  },
  "language_info": {
   "codemirror_mode": {
    "name": "ipython",
    "version": 3
   },
   "file_extension": ".py",
   "mimetype": "text/x-python",
   "name": "python",
   "nbconvert_exporter": "python",
   "pygments_lexer": "ipython3",
   "version": "3.11.5"
  }
 },
 "nbformat": 4,
 "nbformat_minor": 5
}
